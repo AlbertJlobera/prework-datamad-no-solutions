{
 "cells": [
  {
   "cell_type": "code",
   "execution_count": 27,
   "metadata": {},
   "outputs": [
    {
     "name": "stdout",
     "output_type": "stream",
     "text": [
      "[23, 20, 15, 40, 15]\n",
      "[(9, 23), (20, 20), (23, 15), (28, 40), (29, 15)]\n",
      "[23, 40]\n"
     ]
    }
   ],
   "source": [
    "dbs = [0, 1, 0, 0, 0, 0, 1, 0, 1, 23, 1, 0, 1, 1, 0, 0, 0,1, 1, 0, 20, 1, 1, 15, 1, 0, 0, 0, 40, 15, 0, 0]\n",
    " \n",
    "dbs1=[]\n",
    " \n",
    "dbs_index=[]\n",
    " \n",
    "for e in dbs:\n",
    "  if e >10:\n",
    "    dbs1.append(e)\n",
    " \n",
    "print(dbs1)\n",
    " \n",
    "dbs_position=[]\n",
    "dbs_value=[]\n",
    "for e, i in enumerate(dbs):\n",
    "    if i in dbs1:\n",
    "        dbs_value.append(i)\n",
    "        dbs_position.append(e)\n",
    "\n",
    "\n",
    "        \n",
    "dbs_index=list(zip(dbs_position,dbs_value))\n",
    "\n",
    "\n",
    "print(dbs_index)\n",
    "\n",
    "# Combine the last two exercises to show the moments when a \n",
    "# volume exceeds 10 dBs. HINT: Use the enumerate function\n",
    "\n",
    "\n",
    "#BONUS\n",
    "\n",
    "hacker=[12 if e>20 else 18 for e>30 in dbs]\n",
    "\n",
    "print(hacker)\n",
    "\n",
    "\n",
    "        "
   ]
  },
  {
   "cell_type": "code",
   "execution_count": null,
   "metadata": {},
   "outputs": [],
   "source": []
  }
 ],
 "metadata": {
  "kernelspec": {
   "display_name": "Python 3",
   "language": "python",
   "name": "python3"
  },
  "language_info": {
   "codemirror_mode": {
    "name": "ipython",
    "version": 3
   },
   "file_extension": ".py",
   "mimetype": "text/x-python",
   "name": "python",
   "nbconvert_exporter": "python",
   "pygments_lexer": "ipython3",
   "version": "3.8.2"
  }
 },
 "nbformat": 4,
 "nbformat_minor": 4
}
