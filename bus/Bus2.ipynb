{
 "cells": [
  {
   "cell_type": "code",
   "execution_count": 7,
   "metadata": {},
   "outputs": [
    {
     "name": "stdout",
     "output_type": "stream",
     "text": [
      "9\n",
      "[10, 13, 11, 10, 14, 10, 7, 5, 4]\n",
      "14\n",
      "9.333333333333334\n",
      "3.197221015541813\n"
     ]
    }
   ],
   "source": [
    "stops = [(10, 0), (4, 1), (3, 5), (3, 4), (5, 1), (1, 5), (5, 8), (4, 6), (2, 3)]\n",
    "\n",
    "\n",
    "print(len(stops))\n",
    "\n",
    "# 2. Assign a variable a list whose elements are the number of passengers in each stop: \n",
    "# Each item depends on the previous item in the list + in - out.\n",
    "\n",
    "\n",
    "\n",
    "\n",
    "iN=0\n",
    "\n",
    "\n",
    "\n",
    "occupants=[]\n",
    "\n",
    "for e in stops:\n",
    "    iN += e[0] - e[1]\n",
    "    occupants.append(iN)\n",
    "\n",
    "  \n",
    "print(occupants)\n",
    "\n",
    "\n",
    "# 3. Find the maximum occupation of the bus.\n",
    "\n",
    "max_occupants=max(occupants)\n",
    "\n",
    "print(max_occupants)\n",
    "\n",
    "\n",
    "# 4. Calculate the average occupation. And the standard deviation.\n",
    "\n",
    "\n",
    "occupants_sum=sum(occupants)\n",
    "occupants_len=len(occupants)\n",
    "avarage=occupants_sum / occupants_len\n",
    "\n",
    "\n",
    "print(avarage)\n",
    "\n",
    "\n",
    "# Falta Derivacion staandard\n",
    "    \n",
    "import statistics\n",
    "\n",
    "print(statistics.pstdev(occupants))\n",
    "\n"
   ]
  },
  {
   "cell_type": "code",
   "execution_count": null,
   "metadata": {},
   "outputs": [],
   "source": []
  }
 ],
 "metadata": {
  "kernelspec": {
   "display_name": "Python 3",
   "language": "python",
   "name": "python3"
  },
  "language_info": {
   "codemirror_mode": {
    "name": "ipython",
    "version": 3
   },
   "file_extension": ".py",
   "mimetype": "text/x-python",
   "name": "python",
   "nbconvert_exporter": "python",
   "pygments_lexer": "ipython3",
   "version": "3.8.2"
  }
 },
 "nbformat": 4,
 "nbformat_minor": 4
}
