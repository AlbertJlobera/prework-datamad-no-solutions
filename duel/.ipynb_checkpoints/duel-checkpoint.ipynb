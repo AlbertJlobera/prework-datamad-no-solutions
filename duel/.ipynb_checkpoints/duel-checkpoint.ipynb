{
 "cells": [
  {
   "cell_type": "markdown",
   "metadata": {},
   "source": [
    "# Duel of sorcerers\n",
    "## Intro\n",
    "You are witnessing an epic battle between two powerful sorcerers: Gandalf and Saruman. Each sorcerer has 10 spells of variable power in their mind and they are going to throw them one after the other. The winner of the duel will be the one who wins more of those clashes between spells. Spells are represented as a list of 10 integers whose value equals the power of the spell.\n",
    "```\n",
    "gandalf = [10, 11, 13, 30, 22, 11, 10, 33, 22, 22]\n",
    "saruman = [23, 66, 12, 43, 12, 10, 44, 23, 12, 17]\n",
    "```\n",
    "For example:\n",
    "1. The first clash is won by Saruman: 10 against 23, wins 23\n",
    "2. The second clash wins Saruman: 11 against 66, wins 66\n",
    "3. etc.\n",
    "\n",
    "\n",
    "You will create two variables, one for each sorcerer, where the sum of clashes won will be stored. Depending on which variable is greater at the end of the duel, you will show one of the following three results on the screen:\n",
    "* Gandalf wins\n",
    "* Saruman wins\n",
    "* Tie\n",
    "\n",
    "<img src=\"images/content_lightning_bolt_big.jpg\" width=\"400\">\n",
    "\n",
    "## LINKS: \n",
    "* zip: https://www.programiz.com/python-programming/methods/built-in/zip"
   ]
  },
  {
   "cell_type": "markdown",
   "metadata": {},
   "source": [
    "## Solution"
   ]
  },
  {
   "cell_type": "code",
   "execution_count": 1,
   "metadata": {},
   "outputs": [
    {
     "name": "stdout",
     "output_type": "stream",
     "text": [
      "6\n",
      "4\n"
     ]
    }
   ],
   "source": [
    "# Assign spell power lists to variables\n",
    "gandalf = [10, 11, 13, 30, 22, 11, 10, 33, 22, 22]\n",
    "saruman = [23, 66, 12, 43, 12, 10, 44, 23, 12, 17]\n",
    "\n",
    "wins=list(zip(gandalf,saruman))\n",
    "\n",
    "\n",
    "gandalf_spells_wins=[]\n",
    "\n",
    "saruman_spells_wins=[]\n",
    "\n",
    "for e in wins:\n",
    "    if (e[0] > e[1]):\n",
    "        gandalf_spells_wins.append(e)\n",
    "    else:\n",
    "        saruman_spells_wins.append(e)\n",
    "\n",
    "print(len(gandalf_spells_wins))\n",
    "print(len(saruman_spells_wins))\n"
   ]
  },
  {
   "cell_type": "code",
   "execution_count": 2,
   "metadata": {},
   "outputs": [],
   "source": [
    "# Assign 0 to each variable that stores the victories\n"
   ]
  },
  {
   "cell_type": "code",
   "execution_count": 3,
   "metadata": {},
   "outputs": [],
   "source": [
    "# Execution of spell clashes\n"
   ]
  },
  {
   "cell_type": "markdown",
   "metadata": {},
   "source": [
    "**Expected output**:\n",
    "```\n",
    "6\n",
    "4\n",
    "```"
   ]
  },
  {
   "cell_type": "code",
   "execution_count": 4,
   "metadata": {},
   "outputs": [
    {
     "name": "stdout",
     "output_type": "stream",
     "text": [
      "Gandalf wins\n"
     ]
    }
   ],
   "source": [
    "# We check who has won, do not forget the possibility of a draw.\n",
    "# Print the result based on the winner.\n",
    "gandalf=len(gandalf_spells_wins)\n",
    "saruman=len(saruman_spells_wins)\n",
    "if gandalf>saruman:\n",
    "    print(\"Gandalf wins\")\n",
    "else:\n",
    "    print(\"Saruman wins\")\n",
    "\n"
   ]
  },
  {
   "cell_type": "markdown",
   "metadata": {},
   "source": [
    "**Expected output**:\n",
    "```\n",
    "Gandalf wins\n",
    "```"
   ]
  },
  {
   "cell_type": "markdown",
   "metadata": {},
   "source": [
    "## Goals\n",
    "\n",
    "1. Treatment of lists\n",
    "2. Use of **for loop**\n",
    "3. Use of conditional **if-elif-else**\n",
    "4. Use of the functions **range(), len()**\n",
    "5. print()\n",
    "6. zip()"
   ]
  },
  {
   "cell_type": "markdown",
   "metadata": {},
   "source": [
    "## Bonus\n",
    "\n",
    "1. Spells now have a name and there is a dictionary that relates that name to a power.\n",
    "2. A sorcerer wins if he succeeds in winning 3 spell clashes in a row.\n",
    "3. Average of each of the spell lists.\n",
    "4. Standard deviation of each of the spell lists.\n",
    "\n",
    "```\n",
    "POWER = {\n",
    "    'Fireball': 50, \n",
    "    'Lightning bolt': 40, \n",
    "    'Magic arrow': 10, \n",
    "    'Black Tentacles': 25, \n",
    "    'Contagion': 45\n",
    "}\n",
    "\n",
    "gandalf = ['Fireball', 'Lightning bolt', 'Lightning bolt', 'Magic arrow', 'Fireball', \n",
    "           'Magic arrow', 'Lightning bolt', 'Fireball', 'Fireball', 'Fireball']\n",
    "saruman = ['Contagion', 'Contagion', 'Black Tentacles', 'Fireball', 'Black Tentacles', \n",
    "           'Lightning bolt', 'Magic arrow', 'Contagion', 'Magic arrow', 'Magic arrow']\n",
    "```\n",
    "\n",
    "Good luck!"
   ]
  },
  {
   "cell_type": "code",
   "execution_count": 92,
   "metadata": {},
   "outputs": [
    {
     "name": "stdout",
     "output_type": "stream",
     "text": [
      "gandalf_Spells = [50, 40, 40, 10, 50, 10, 40, 50, 10, 50]\n",
      "saruman_spells = [45, 45, 25, 50, 25, 40, 10, 45, 10, 10]\n",
      "([50, 40, 40, 10, 50, 10, 40, 50, 10, 50], [45, 45, 25, 50, 25, 40, 10, 45, 10, 10])\n"
     ]
    }
   ],
   "source": [
    "# 1. Spells now have a name and there is a dictionary that relates that name to a power.\n",
    "# variables\n",
    "\n",
    "POWER = {\n",
    "    'Fireball': 50, \n",
    "    'Lightning bolt': 40, \n",
    "    'Magic arrow': 10, \n",
    "    'Black Tentacles': 25, \n",
    "    'Contagion': 45\n",
    "}\n",
    "\n",
    "gandalf = ['Fireball', 'Lightning bolt', 'Lightning bolt', 'Magic arrow', 'Fireball', \n",
    "           'Magic arrow', 'Lightning bolt', 'Fireball', 'Magic arrow', 'Fireball']\n",
    "saruman = ['Contagion', 'Contagion', 'Black Tentacles', 'Fireball', 'Black Tentacles', \n",
    "           'Lightning bolt', 'Magic arrow', 'Contagion', 'Magic arrow', 'Magic arrow']\n",
    "\n",
    "gandalf_Spells=[]\n",
    "\n",
    "saruman_Spells=[]\n",
    "\n",
    "for e in gandalf:\n",
    "    if e in POWER:\n",
    "        gandalf_Spells.append(POWER[e])\n",
    "        \n",
    "\n",
    "for e in saruman:\n",
    "    if e in POWER:\n",
    "        saruman_Spells.append(POWER[e])\n",
    "        \n",
    "\n",
    "\n",
    "  \n",
    "total_spells=gandalf_Spells , saruman_Spells\n",
    "\n",
    "print(total_spells)\n",
    "\n",
    "\n",
    "\n",
    "        \n",
    "\n",
    "\n",
    "\n",
    "        \n"
   ]
  },
  {
   "cell_type": "code",
   "execution_count": 6,
   "metadata": {},
   "outputs": [],
   "source": [
    "# Assign spell power lists to variables\n"
   ]
  },
  {
   "cell_type": "markdown",
   "metadata": {},
   "source": [
    "**Expected output**:\n",
    "```\n",
    "([50, 40, 40, 10, 50, 10, 40, 50, 10, 50],\n",
    " [45, 45, 25, 50, 25, 40, 10, 45, 10, 10])\n",
    " ```"
   ]
  },
  {
   "cell_type": "code",
   "execution_count": 84,
   "metadata": {},
   "outputs": [
    {
     "name": "stdout",
     "output_type": "stream",
     "text": [
      "[(50, 45), (40, 45), (40, 25), (10, 50), (50, 25), (10, 40), (40, 10), (50, 45), (10, 10), (50, 10)]\n",
      "Gandalf wins\n",
      "Total sum Gandalf spells after crash it : 0 or total Gandalf spells sum: 350\n",
      "Total sum Saruman spells after crash it : -45 or total Saruman spells sum : 305\n",
      "Total sum of sorceres spells:  655\n"
     ]
    }
   ],
   "source": [
    "# 2. A sorcerer wins if he succeeds in winning 3 spell clashes in a row.\n",
    "\n",
    "\n",
    "\n",
    "# Execution of spell clashes\n",
    "\n",
    "Crash_spells=list(zip(lst,lst_s))\n",
    "\n",
    "# check clashes\n",
    "print(Crash_spells)\n",
    "\n",
    "# check for 3 wins in a row\n",
    "\n",
    "def dups_in_row(Crash_spells):\n",
    "    for i in range (len(Crash_spells) - 1):\n",
    "        if Crash_spells[0] > Crash_spells[1 + 3]:\n",
    "            return True;\n",
    "    return False;\n",
    "        \n",
    "dups_in_row(Crash_spells)\n",
    "# check the winner\n",
    "\n",
    "if dups_in_row(Crash_spells)==True:\n",
    "    print(\"Gandalf wins\")\n",
    "else:\n",
    "    print(\"Saruman wins\")\n",
    "\n",
    "\n",
    "# count sum of clashes\n",
    "\n",
    "Sum_gandalf=0\n",
    "Sum_Saruman=0\n",
    "total_sum=0\n",
    "\n",
    "sum_gandalf=0\n",
    "sum_saruman=0\n",
    "\n",
    "\n",
    "for e in Crash_spells:\n",
    "    Sum_clashes+=(e[0] - e[1])\n",
    "    Sum_Saruman+=(e[-1]-e[0])\n",
    "    total_sum+=(e[0]+e[1])\n",
    "    sum_gandalf+=(e[0])\n",
    "    sum_saruman+= (e[1])\n",
    "\n",
    "    \n",
    "    \n",
    "\n",
    "print(\"Total sum Gandalf spells after crash it :\", Sum_gandalf, \"or total Gandalf spells sum:\" ,sum_gandalf)\n",
    "print(\"Total sum Saruman spells after crash it :\", Sum_Saruman, \"or total Saruman spells sum :\", sum_saruman)\n",
    "print(\"Total sum of sorceres spells: \", total_sum,)\n",
    "\n",
    "    \n",
    "    \n"
   ]
  },
  {
   "cell_type": "markdown",
   "metadata": {},
   "source": [
    "**Expected output**:\n",
    "```\n",
    "Gandalf wins\n",
    "```"
   ]
  },
  {
   "cell_type": "code",
   "execution_count": 96,
   "metadata": {},
   "outputs": [
    {
     "name": "stdout",
     "output_type": "stream",
     "text": [
      "35.0\n",
      "30.5\n"
     ]
    }
   ],
   "source": [
    "# 3. Average of each of the spell lists.\n",
    "gandalf_Spells = [50, 40, 40, 10, 50, 10, 40, 50, 10, 50]\n",
    "saruman_spells = [45, 45, 25, 50, 25, 40, 10, 45, 10, 10]\n",
    "\n",
    "def Avarage_Gandalf():\n",
    "    sum1=sum(gandalf_Spells)\n",
    "    len1=len(gandalf_Spells)\n",
    "    mean=sum1/len1\n",
    "    \n",
    "    return print(mean)\n",
    "\n",
    "def Avarage_Saruman():\n",
    "    sum1=sum(saruman_Spells)\n",
    "    len1=len(saruman_Spells)\n",
    "    mean=sum1/len1\n",
    "    \n",
    "    return print(mean)\n",
    "\n",
    "Avarage_Gandalf()\n",
    "\n",
    "Avarage_Saruman()\n"
   ]
  },
  {
   "cell_type": "markdown",
   "metadata": {},
   "source": [
    "**Expected output**:\n",
    "```\n",
    "35.0\n",
    "30.5\n",
    "```"
   ]
  },
  {
   "cell_type": "code",
   "execution_count": 98,
   "metadata": {},
   "outputs": [
    {
     "name": "stdout",
     "output_type": "stream",
     "text": [
      "16.881943016134134\n",
      "15.56438241627338\n"
     ]
    }
   ],
   "source": [
    "# 4. Standard deviation of each of the spell lists.\n",
    "\n",
    "import statistics\n",
    "\n",
    "print(statistics.pstdev(gandalf_Spells))\n",
    "print(statistics.pstdev(saruman_Spells))\n"
   ]
  },
  {
   "cell_type": "markdown",
   "metadata": {},
   "source": [
    "**Expected output**:\n",
    "```\n",
    "16.881943016134134\n",
    "15.56438241627338\n",
    "```"
   ]
  }
 ],
 "metadata": {
  "kernelspec": {
   "display_name": "Python 3",
   "language": "python",
   "name": "python3"
  },
  "language_info": {
   "codemirror_mode": {
    "name": "ipython",
    "version": 3
   },
   "file_extension": ".py",
   "mimetype": "text/x-python",
   "name": "python",
   "nbconvert_exporter": "python",
   "pygments_lexer": "ipython3",
   "version": "3.8.2"
  }
 },
 "nbformat": 4,
 "nbformat_minor": 2
}
