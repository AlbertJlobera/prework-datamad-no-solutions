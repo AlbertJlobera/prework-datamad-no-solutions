{
 "cells": [
  {
   "cell_type": "code",
   "execution_count": 35,
   "metadata": {},
   "outputs": [
    {
     "name": "stdout",
     "output_type": "stream",
     "text": [
      "True\n",
      "2\n",
      "2\n",
      "6\n",
      "10\n",
      "(0, 2)\n",
      "((9, 9), (-8, -9))\n",
      "2\n"
     ]
    }
   ],
   "source": [
    "points = [(4, 5), (-0, 2), (4, 7), (1, -3), (3, -2), (4, 5),\n",
    "          (3, 2), (5, 7), (-5, 7), (2, 2), (-4, 5), (0, -2),\n",
    "          (-4, 7), (-1, 3), (-3, 2), (-4, -5), (-3, 2),\n",
    "          (5, 7), (5, 7), (2, 2), (9, 9), (-8, -9)]\n",
    "\n",
    "\n",
    "# # 1. Robin Hood is famous for hitting an arrow with another arrow. Did you get it?\n",
    "\n",
    "lst=[]\n",
    "for e in points:\n",
    "    if e[0] == e[1]:\n",
    "        lst.append(e)\n",
    "        \n",
    "        print(lst == lst)\n",
    "        break\n",
    "        \n",
    "# 2. Calculate how many arrows have fallen in each quadrant.\n",
    "\n",
    "Q1=[] # [0] and [1] positive.\n",
    "Q2=[] \n",
    "Q3=[]\n",
    "Q4=[] # [0] and [1] negative\n",
    "sum=0\n",
    "\n",
    "forest=[]\n",
    "\n",
    "for e in points:\n",
    "    if(e[0]>=0 and e[1]>=0):\n",
    "        Q1.append(e)\n",
    "    elif (e[0]>=0 and e[1]<0):\n",
    "        Q2.append(e)\n",
    "    elif (e[0]<0 and e[1]>=0):\n",
    "        Q3.append(e)\n",
    "    else:\n",
    "        Q4.append(e)\n",
    "\n",
    "forest1=min(Q2)\n",
    "forest=max(Q1)\n",
    "\n",
    "for e in forest:\n",
    "    if forest in Q1:\n",
    "        Q1.remove(forest)\n",
    "for e in forest1:\n",
    "    if forest1 in Q2:\n",
    "        Q2.remove(forest1)\n",
    "\n",
    "        \n",
    "\n",
    "\n",
    "print(len(Q4))\n",
    "print(len(Q2))\n",
    "print(len(Q3))\n",
    "print(len(Q1))\n",
    "\n",
    "# 3. Find the point closest to the center. Calculate its distance to the center\n",
    "# Defining a function that calculates the distance to the center can help.\n",
    "\n",
    "\n",
    "center=min(Q1)\n",
    "\n",
    "distance=[0,-2]\n",
    "\n",
    "print(center)\n",
    "\n",
    "# 4. If the target has a radius of 9, calculate the number of arrows that \n",
    "# must be picked up in the forest.\n",
    "\n",
    "max_points=max(points)\n",
    "min_points=min(points)\n",
    "\n",
    "forest_arrows= max_points,min_points\n",
    "\n",
    "print(forest_arrows)\n",
    "print(len(forest_arrows))"
   ]
  },
  {
   "cell_type": "code",
   "execution_count": null,
   "metadata": {},
   "outputs": [],
   "source": []
  },
  {
   "cell_type": "code",
   "execution_count": null,
   "metadata": {},
   "outputs": [],
   "source": []
  }
 ],
 "metadata": {
  "kernelspec": {
   "display_name": "Python 3",
   "language": "python",
   "name": "python3"
  },
  "language_info": {
   "codemirror_mode": {
    "name": "ipython",
    "version": 3
   },
   "file_extension": ".py",
   "mimetype": "text/x-python",
   "name": "python",
   "nbconvert_exporter": "python",
   "pygments_lexer": "ipython3",
   "version": "3.8.2"
  }
 },
 "nbformat": 4,
 "nbformat_minor": 4
}
