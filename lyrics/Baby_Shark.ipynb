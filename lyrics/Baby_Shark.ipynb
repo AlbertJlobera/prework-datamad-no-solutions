{
 "cells": [
  {
   "cell_type": "code",
   "execution_count": 7,
   "metadata": {},
   "outputs": [
    {
     "name": "stdout",
     "output_type": "stream",
     "text": [
      "Baby shark, doo doo doo doo doo doo\n",
      "Baby shark, doo doo doo doo doo doo\n",
      "Baby shark, doo doo doo doo doo doo\n",
      "Baby shark!\n"
     ]
    }
   ],
   "source": [
    "#Create a code to print the first paragraph and asign it to a variable.\n",
    "\n",
    "baby_shark1=\"Baby shark, doo doo doo doo doo doo\\n\"*3\n",
    "baby_shark2=\"Baby shark!\"\n",
    "\n",
    "baby_shark3= baby_shark1 + baby_shark2\n",
    "\n",
    "print(baby_shark3)"
   ]
  },
  {
   "cell_type": "code",
   "execution_count": 27,
   "metadata": {},
   "outputs": [
    {
     "name": "stdout",
     "output_type": "stream",
     "text": [
      "Baby Shark, doo doo doo doo doo doo\n",
      "Baby Shark, doo doo doo doo doo doo\n",
      "Baby Shark, doo doo doo doo doo doo\n",
      "Baby Shark!\n",
      "Mommy Shark, doo doo doo doo doo doo\n",
      "Mommy Shark, doo doo doo doo doo doo\n",
      "Mommy Shark, doo doo doo doo doo doo\n",
      "Mommy Shark!\n",
      "Daddy Shark, doo doo doo doo doo doo\n",
      "Daddy Shark, doo doo doo doo doo doo\n",
      "Daddy Shark, doo doo doo doo doo doo\n",
      "Daddy Shark!\n",
      "Grandma Shark, doo doo doo doo doo doo\n",
      "Grandma Shark, doo doo doo doo doo doo\n",
      "Grandma Shark, doo doo doo doo doo doo\n",
      "Grandma Shark!\n",
      "Granpa Shark, doo doo doo doo doo doo\n",
      "Granpa Shark, doo doo doo doo doo doo\n",
      "Granpa Shark, doo doo doo doo doo doo\n",
      "Granpa Shark!\n",
      "Let´s go hunt  doo doo doo doo doo doo\n",
      "Let´s go hunt  doo doo doo doo doo doo\n",
      "Let´s go hunt  doo doo doo doo doo doo\n",
      "Let´s go hunt!\n",
      "Run away,…\n",
      "False\n"
     ]
    }
   ],
   "source": [
    "babyshark = '''Baby shark, doo doo doo doo doo doo\n",
    "Baby shark, doo doo doo doo doo doo\n",
    "Baby shark, doo doo doo doo doo doo\n",
    "Baby shark!\n",
    "Mommy shark, doo doo doo doo doo doo\n",
    "Mommy shark, doo doo doo doo doo doo\n",
    "Mommy shark, doo doo doo doo doo doo\n",
    "Mommy shark!\n",
    "Daddy shark, doo doo doo doo doo doo\n",
    "Daddy shark, doo doo doo doo doo doo\n",
    "Daddy shark, doo doo doo doo doo doo\n",
    "Daddy shark!\n",
    "Grandma shark, doo doo doo doo doo doo\n",
    "Grandma shark, doo doo doo doo doo doo\n",
    "Grandma shark, doo doo doo doo doo doo\n",
    "Grandma shark!\n",
    "Grandpa shark, doo doo doo doo doo doo\n",
    "Grandpa shark, doo doo doo doo doo doo\n",
    "Grandpa shark, doo doo doo doo doo doo\n",
    "Grandpa shark!\n",
    "Let's go hunt, doo doo doo doo doo doo\n",
    "Let's go hunt, doo doo doo doo doo doo\n",
    "Let's go hunt, doo doo doo doo doo doo\n",
    "Let's go hunt!\n",
    "Run away,…'''\n",
    "\n",
    "line_1=\"\"\n",
    "line_2=\"\"\n",
    "line_3=\"\"\n",
    "\n",
    "for e in [\"Baby\", \"Mommy\",\"Daddy\",\"Grandma\",\"Granpa\"]:\n",
    "    for _ in range(1):\n",
    "        line_1+=f'{e} Shark,{\" doo\"*6}\\n'*3 + f'{e} Shark!\\n'\n",
    "for i in [\"Let´s go hunt\"]:\n",
    "    for _ in range(1):\n",
    "        line_2+=f'{i} {\" doo\"*6}\\n'*3 + f'{i}!\\n'\n",
    "        line_3+='Run away,…'\n",
    "        \n",
    "result= line_1 + line_2 + line_3\n",
    "\n",
    "# print(result)\n",
    "\n",
    "# print(result==babyshark)\n",
    "\n",
    "def baby_shark_lyrics():     \n",
    "    # your code here\n",
    "    \n",
    "    "
   ]
  },
  {
   "cell_type": "code",
   "execution_count": null,
   "metadata": {},
   "outputs": [],
   "source": []
  }
 ],
 "metadata": {
  "kernelspec": {
   "display_name": "Python 3",
   "language": "python",
   "name": "python3"
  },
  "language_info": {
   "codemirror_mode": {
    "name": "ipython",
    "version": 3
   },
   "file_extension": ".py",
   "mimetype": "text/x-python",
   "name": "python",
   "nbconvert_exporter": "python",
   "pygments_lexer": "ipython3",
   "version": "3.8.2"
  }
 },
 "nbformat": 4,
 "nbformat_minor": 4
}
