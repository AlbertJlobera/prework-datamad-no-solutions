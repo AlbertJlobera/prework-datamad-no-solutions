{
 "cells": [
  {
   "cell_type": "code",
   "execution_count": 14,
   "metadata": {
    "scrolled": true
   },
   "outputs": [
    {
     "name": "stdout",
     "output_type": "stream",
     "text": [
      "Days = 11\n"
     ]
    }
   ],
   "source": [
    "# Assign problem data to variables with representative names\n",
    "# well height, daily advance, night retreat, accumulated distance\n",
    "\n",
    "\n",
    "# Assign 0 to the variable that represents the solution\n",
    "\n",
    "\n",
    "# Write the code that solves the problem\n",
    "\n",
    "\n",
    "# Print the result with print('Days =', days)\n",
    "\n",
    "\n",
    "well_hight= 125\n",
    "daily_advance= 30\n",
    "night_retreat=-20\n",
    "accomulated_distance=0\n",
    "day=0\n",
    "\n",
    "while accomulated_distance < well_hight:\n",
    "    accomulated_distance = accomulated_distance + daily_advance + night_retreat\n",
    "    day+=1\n",
    "    # print(\"Day:\", day)\n",
    "    # print(\"Distance climbed:\", accomulated_distance)\n",
    "\n",
    "remining_nights=2\n",
    "\n",
    "entire_days= day - remining_nights\n",
    "\n",
    "print(\"Days =\", entire_days)\n",
    "\n",
    "\n"
   ]
  },
  {
   "cell_type": "code",
   "execution_count": null,
   "metadata": {},
   "outputs": [],
   "source": []
  }
 ],
 "metadata": {
  "kernelspec": {
   "display_name": "Python 3",
   "language": "python",
   "name": "python3"
  },
  "language_info": {
   "codemirror_mode": {
    "name": "ipython",
    "version": 3
   },
   "file_extension": ".py",
   "mimetype": "text/x-python",
   "name": "python",
   "nbconvert_exporter": "python",
   "pygments_lexer": "ipython3",
   "version": "3.8.2"
  }
 },
 "nbformat": 4,
 "nbformat_minor": 4
}
